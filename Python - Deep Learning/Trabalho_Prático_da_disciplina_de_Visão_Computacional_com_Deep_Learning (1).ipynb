{
 "cells": [
  {
   "cell_type": "markdown",
   "metadata": {
    "colab_type": "text",
    "id": "NzdWoVD1FNsY"
   },
   "source": [
    "# Visão Computacional com Deep Learning"
   ]
  },
  {
   "cell_type": "code",
   "execution_count": 1,
   "metadata": {
    "colab": {
     "base_uri": "https://localhost:8080/"
    },
    "colab_type": "code",
    "id": "PqerVHVZEvA1",
    "outputId": "4c360d7d-11c0-441e-bfef-9258fc8dabd5"
   },
   "outputs": [
    {
     "ename": "ModuleNotFoundError",
     "evalue": "No module named 'keras'",
     "output_type": "error",
     "traceback": [
      "\u001b[1;31m---------------------------------------------------------------------------\u001b[0m",
      "\u001b[1;31mModuleNotFoundError\u001b[0m                       Traceback (most recent call last)",
      "Cell \u001b[1;32mIn[1], line 1\u001b[0m\n\u001b[1;32m----> 1\u001b[0m \u001b[38;5;28;01mfrom\u001b[39;00m \u001b[38;5;21;01mkeras\u001b[39;00m\u001b[38;5;21;01m.\u001b[39;00m\u001b[38;5;21;01mmodels\u001b[39;00m \u001b[38;5;28;01mimport\u001b[39;00m Sequential \n\u001b[0;32m      2\u001b[0m \u001b[38;5;28;01mfrom\u001b[39;00m \u001b[38;5;21;01mkeras\u001b[39;00m\u001b[38;5;21;01m.\u001b[39;00m\u001b[38;5;21;01mlayers\u001b[39;00m\u001b[38;5;21;01m.\u001b[39;00m\u001b[38;5;21;01mcore\u001b[39;00m \u001b[38;5;28;01mimport\u001b[39;00m Dense, Dropout, Activation, Flatten \n\u001b[0;32m      3\u001b[0m \u001b[38;5;28;01mfrom\u001b[39;00m \u001b[38;5;21;01mkeras\u001b[39;00m\u001b[38;5;21;01m.\u001b[39;00m\u001b[38;5;21;01mlayers\u001b[39;00m\u001b[38;5;21;01m.\u001b[39;00m\u001b[38;5;21;01mconvolutional\u001b[39;00m \u001b[38;5;28;01mimport\u001b[39;00m Conv2D, MaxPooling2D, ZeroPadding2D \n",
      "\u001b[1;31mModuleNotFoundError\u001b[0m: No module named 'keras'"
     ]
    }
   ],
   "source": [
    "from keras.models import Sequential \n",
    "from keras.layers.core import Dense, Dropout, Activation, Flatten \n",
    "from keras.layers.convolutional import Conv2D, MaxPooling2D, ZeroPadding2D \n",
    "from keras.layers.normalization import BatchNormalization \n",
    "from keras.regularizers import l2 \n",
    "from keras.datasets import cifar10, cifar100 \n",
    "from keras.optimizers import Adam \n",
    "from keras.utils import to_categorical \n",
    "import numpy as np \n",
    " "
   ]
  },
  {
   "cell_type": "code",
   "execution_count": null,
   "metadata": {
    "colab": {
     "base_uri": "https://localhost:8080/",
     "height": 92
    },
    "colab_type": "code",
    "id": "awvDHDOeFUpi",
    "outputId": "9b8c3758-c8a8-4db4-8100-d38bd58ab9ce"
   },
   "outputs": [],
   "source": [
    "np.random.seed(1000) \n",
    " \n",
    "(X_train10, Y_train10), (X_test10, Y_test10) = cifar10.load_data() \n",
    "(X_train100, Y_train100), (X_test100, Y_test100) = cifar100.load_data() "
   ]
  },
  {
   "cell_type": "code",
   "execution_count": null,
   "metadata": {
    "colab": {
     "base_uri": "https://localhost:8080/",
     "height": 377
    },
    "colab_type": "code",
    "id": "Cl_Rl_J8GI8n",
    "outputId": "b65c2d7c-0eac-4fa8-b7d2-75cd5c64a85c"
   },
   "outputs": [],
   "source": [
    "# Arquitetura de Rede Neural Artificial - AlexNet\n",
    "\n",
    "#alexnet = Sequential() \n",
    " \n",
    "# Layer 1 \n",
    "# alexnet.add(Conv2D(96, (11, 11), input_shape=(32, 32, 3),   \n",
    "#                   padding='same')) \n",
    "#alexnet.add(BatchNormalization()) \n",
    "#alexnet.add(Activation('relu')) \n",
    "#alexnet.add(MaxPooling2D(pool_size=(2, 2))) \n",
    "\n",
    "# Layer 1\n",
    "#alexnet.add(Conv2D(96, (3, 3), input_shape=(32, 32, 3),\n",
    "#                    padding='same'))\n",
    "#alexnet.add(BatchNormalization())\n",
    "#alexnet.add(Activation('relu'))\n",
    "#alexnet.add(MaxPooling2D(pool_size=(2, 2)))\n",
    " \n",
    "# Layer 2 \n",
    "#alexnet.add(Conv2D(256, (5, 5), padding='same'))\n",
    "#alexnet.add(BatchNormalization())\n",
    "#alexnet.add(Activation('relu'))\n",
    "#alexnet.add(MaxPooling2D(pool_size=(2, 2))) \n",
    " \n",
    "# Layer 3 \n",
    "#alexnet.add(Conv2D(512, (3, 3), padding='same'))\n",
    "#alexnet.add(BatchNormalization()) \n",
    "#alexnet.add(Activation('relu')) \n",
    "#alexnet.add(MaxPooling2D(pool_size=(2, 2))) \n",
    " \n",
    "# Layer 4 \n",
    "#alexnet.add(Conv2D(1024, (3, 3), padding='same'))\n",
    "#alexnet.add(BatchNormalization()) \n",
    "#alexnet.add(Activation('relu')) \n",
    " \n",
    "# Layer 5 \n",
    "#alexnet.add(Conv2D(1024, (3, 3), padding='same'))\n",
    "#alexnet.add(BatchNormalization()) \n",
    "#alexnet.add(Activation('relu')) \n",
    "#alexnet.add(MaxPooling2D(pool_size=(2, 2))) \n",
    " \n",
    "# Layer 6 \n",
    "# alexnet.add(Flatten()) \n",
    "# alexnet.add(Dense(4096)) \n",
    "# alexnet.add(BatchNormalization()) \n",
    "# alexnet.add(Activation('relu')) \n",
    "# alexnet.add(Dropout(0.5)) \n",
    "\n",
    "# Layer 6\n",
    "#alexnet.add(Flatten())\n",
    "#alexnet.add(Dense(4096, kernel_initializer='zeros'))\n",
    "#alexnet.add(BatchNormalization())\n",
    "#alexnet.add(Activation('relu'))\n",
    "#alexnet.add(Dropout(0.5))\n",
    "\n",
    "\n",
    "# Layer 7 alexnet.add(Dense(4096)) \n",
    "#alexnet.add(BatchNormalization()) \n",
    "#alexnet.add(Activation('relu')) \n",
    "#alexnet.add(Dropout(0.5)) \n",
    " \n",
    "# Layer 7\n",
    "#alexnet.add(Dense(4096, kernel_initializer='zeros'))\n",
    "#alexnet.add(BatchNormalization())\n",
    "#alexnet.add(Activation('relu'))\n",
    "#alexnet.add(Dropout(0.5))\n",
    "  \n",
    "# Layer 8 \n",
    "#alexnet.add(Dense(10)) \n",
    "#alexnet.add(BatchNormalization()) \n",
    "#alexnet.add(Activation('softmax')) \n",
    "\n",
    "# Layer 8\n",
    "#alexnet.add(Dense(10))\n",
    "#alexnet.add(BatchNormalization())\n",
    "#alexnet.add(Activation('softmax'))\n",
    "\n",
    "\n",
    "###############################################################################################################\n",
    "\n",
    "# Initialize model\n",
    "alexnet = Sequential()\n",
    "\n",
    "# Layer 1\n",
    "alexnet.add(Conv2D(96, (3, 3), input_shape=(32, 32, 3),\n",
    "        padding='same'))\n",
    "alexnet.add(BatchNormalization())\n",
    "alexnet.add(Activation('relu'))\n",
    "alexnet.add(MaxPooling2D(pool_size=(2, 2)))\n",
    "\n",
    "# Layer 2\n",
    "alexnet.add(Conv2D(256, (5, 5), padding='same'))\n",
    "alexnet.add(BatchNormalization())\n",
    "alexnet.add(Activation('relu'))\n",
    "alexnet.add(MaxPooling2D(pool_size=(2, 2)))\n",
    "\n",
    "# Layer 3\n",
    "alexnet.add(Conv2D(512, (3, 3), padding='same'))\n",
    "alexnet.add(BatchNormalization())\n",
    "alexnet.add(Activation('relu'))\n",
    "alexnet.add(MaxPooling2D(pool_size=(2, 2)))\n",
    "\n",
    "\n",
    "# Layer 6\n",
    "alexnet.add(Flatten())\n",
    "alexnet.add(Dense(4096))\n",
    "alexnet.add(BatchNormalization())\n",
    "alexnet.add(Activation('relu'))\n",
    "alexnet.add(Dropout(0.5))\n",
    "\n",
    "\n",
    "# Layer 8\n",
    "alexnet.add(Dense(10))\n",
    "alexnet.add(BatchNormalization())\n",
    "alexnet.add(Activation('softmax'))"
   ]
  },
  {
   "cell_type": "code",
   "execution_count": null,
   "metadata": {
    "colab": {
     "base_uri": "https://localhost:8080/",
     "height": 584
    },
    "colab_type": "code",
    "id": "zvkFiMkyH3Yn",
    "outputId": "dc9e43c8-5c85-4628-9701-80e2e12017f8"
   },
   "outputs": [],
   "source": [
    "# Preparando para Executar o Modelo da Rede Neural Convolucional\n",
    "\n",
    "#alexnet.compile(loss='categorical_crossentropy',\n",
    "#        optimizer=Adam(lr=0.0001),\n",
    "#        metrics=['accuracy']) \n",
    " \n",
    "#alexnet.fit(X_train10 / 255.0, to_categorical(Y_train10),\n",
    "#        batch_size=64,\n",
    "#        shuffle=True,\n",
    "#        epochs=10,\n",
    "#        validation_data=(X_test10 / 255.0, to_categorical(Y_test10)))\n",
    "\n",
    "#scores = alexnet.evaluate(X_test10 / 255.0, to_categorical(Y_test10)) \n",
    " \n",
    "#print('Loss: %.3f' % scores[0]) \n",
    "#print('Accuracy: %.3f' % scores[1]) \n",
    "\n",
    "alexnet.compile(loss='categorical_crossentropy',\n",
    "        optimizer=Adam(lr=0.0001),\n",
    "        metrics=['accuracy'])\n",
    "\n",
    "alexnet.fit(X_train10 / 255.0, to_categorical(Y_train10),\n",
    "        batch_size=128,\n",
    "        shuffle=True,\n",
    "        epochs=10,\n",
    "        validation_data=(X_test10 / 255.0, to_categorical(Y_test10)))\n",
    "\n",
    "scores = alexnet.evaluate(X_test10 / 255.0, to_categorical(Y_test10))\n",
    "\n",
    "print('Loss: %.3f' % scores[0])\n",
    "print('Accuracy: %.3f' % scores[1])\n",
    " "
   ]
  },
  {
   "cell_type": "code",
   "execution_count": null,
   "metadata": {
    "colab": {},
    "colab_type": "code",
    "id": "TvGvWkPfJJ2B"
   },
   "outputs": [],
   "source": []
  }
 ],
 "metadata": {
  "accelerator": "GPU",
  "colab": {
   "collapsed_sections": [],
   "name": "Trabalho Prático da disciplina de Visão Computacional com Deep Learning.ipynb",
   "provenance": []
  },
  "kernelspec": {
   "display_name": "Python 3 (ipykernel)",
   "language": "python",
   "name": "python3"
  },
  "language_info": {
   "codemirror_mode": {
    "name": "ipython",
    "version": 3
   },
   "file_extension": ".py",
   "mimetype": "text/x-python",
   "name": "python",
   "nbconvert_exporter": "python",
   "pygments_lexer": "ipython3",
   "version": "3.11.5"
  }
 },
 "nbformat": 4,
 "nbformat_minor": 1
}
