{
 "cells": [
  {
   "cell_type": "markdown",
   "metadata": {
    "colab_type": "text",
    "id": "O1dL5SoXzh6Z"
   },
   "source": [
    "*Pássaros e Cavalos*"
   ]
  },
  {
   "cell_type": "markdown",
   "metadata": {
    "colab_type": "text",
    "id": "PPQKGzzfsliK"
   },
   "source": [
    "Trabalho Prático da Disciplina de Descomplicando o Deep Learning"
   ]
  },
  {
   "cell_type": "code",
   "execution_count": null,
   "metadata": {
    "colab": {},
    "colab_type": "code",
    "id": "SW040ApuqEO6"
   },
   "outputs": [],
   "source": [
    "from __future__ import print_function\n",
    "\n",
    "from PIL import Image\n",
    "\n",
    "import requests\n",
    "\n",
    "from io import BytesIO\n",
    "\n",
    "import numpy as np"
   ]
  },
  {
   "cell_type": "code",
   "execution_count": null,
   "metadata": {
    "colab": {},
    "colab_type": "code",
    "id": "YNBnbg-xqlkd"
   },
   "outputs": [],
   "source": [
    "# Bibliotecas do Keras + Tensorflow"
   ]
  },
  {
   "cell_type": "code",
   "execution_count": null,
   "metadata": {
    "colab": {
     "base_uri": "https://localhost:8080/"
    },
    "colab_type": "code",
    "id": "G9Rf6xz-rR_m",
    "outputId": "0fa39b44-b1d0-4adb-a84e-f88a52aa178f"
   },
   "outputs": [],
   "source": [
    "from keras.callbacks import EarlyStopping\n",
    "from keras.datasets import cifar10\n",
    "from keras.models import Sequential\n",
    "from keras.layers.core import Dense, Dropout, Flatten\n",
    "from keras.layers.convolutional import Conv2D\n",
    "from keras.optimizers import Adam\n",
    "from keras.layers.pooling import MaxPooling2D\n",
    "from keras.utils import to_categorical"
   ]
  },
  {
   "cell_type": "code",
   "execution_count": null,
   "metadata": {
    "colab": {},
    "colab_type": "code",
    "id": "vgewOev3rH5P"
   },
   "outputs": [],
   "source": []
  },
  {
   "cell_type": "markdown",
   "metadata": {
    "colab_type": "text",
    "id": "XIc9ZgJHr81n"
   },
   "source": [
    "Criando o Modelo de Machine Learning com a base de treinamento do cifar100"
   ]
  },
  {
   "cell_type": "code",
   "execution_count": null,
   "metadata": {
    "colab": {
     "base_uri": "https://localhost:8080/",
     "height": 245
    },
    "colab_type": "code",
    "id": "umYr75v6sFmH",
    "outputId": "2c0a73d6-f795-4f57-fdf9-e062c4d1822b"
   },
   "outputs": [],
   "source": [
    "np.random.seed(1000)\n",
    "\n",
    "(X_train, Y_train), (X_test, Y_test) = cifar10.load_data()\n",
    "\n",
    "# Create the model\n",
    "\n",
    "model = Sequential()\n",
    "\n",
    "model.add(Conv2D(32,kernel_size=(3, 3), activation='relu', input_shape=(32, 32, 3)))\n",
    "\n",
    "model.add(MaxPooling2D(pool_size=(2, 2)))"
   ]
  },
  {
   "cell_type": "code",
   "execution_count": null,
   "metadata": {
    "colab": {
     "base_uri": "https://localhost:8080/",
     "height": 131
    },
    "colab_type": "code",
    "id": "_QfjqD5_sQbQ",
    "outputId": "e6ef4dc7-072f-4455-ebb2-cea65542c537"
   },
   "outputs": [],
   "source": [
    "model.add(Conv2D(64, kernel_size=(3, 3), activation='relu'))\n",
    "\n",
    "model.add(MaxPooling2D(pool_size=(2, 2)))\n",
    "\n",
    "model.add(Dropout(0.25))\n",
    "\n",
    "model.add(Flatten())\n",
    "\n",
    "model.add(Dense(1024, activation='relu'))\n",
    "\n",
    "model.add(Dropout(0.5))\n",
    "\n",
    "model.add(Dense(10, activation='softmax'))"
   ]
  },
  {
   "cell_type": "code",
   "execution_count": null,
   "metadata": {
    "colab": {
     "base_uri": "https://localhost:8080/",
     "height": 112
    },
    "colab_type": "code",
    "id": "5j1eBXFJsi5P",
    "outputId": "9b33e4e8-ea0b-4d13-bc6d-b2bf6143d21b"
   },
   "outputs": [],
   "source": [
    "model.compile(loss='categorical_crossentropy',\n",
    "              optimizer=Adam(lr=0.0001, decay=1e-6),\n",
    "              metrics=['accuracy'])"
   ]
  },
  {
   "cell_type": "code",
   "execution_count": null,
   "metadata": {
    "colab": {
     "base_uri": "https://localhost:8080/",
     "height": 546
    },
    "colab_type": "code",
    "id": "-pF4rcjCtDeR",
    "outputId": "75a263a6-47b1-4b1e-b22c-eec0b2c5b1c1"
   },
   "outputs": [],
   "source": [
    "model.fit(X_train / 255.0, to_categorical(Y_train),\n",
    "          batch_size=128,\n",
    "          shuffle=True,\n",
    "          epochs=10,\n",
    "          validation_data=(X_test / 255.0, to_categorical(Y_test)))\n",
    "\n",
    "scores = model.evaluate(X_test / 255.0, to_categorical(Y_test))\n",
    "\n",
    "print('Loss: %.3f' % scores[0])\n",
    "\n",
    "print('Accuracy: %.3f' % scores[1])"
   ]
  },
  {
   "cell_type": "code",
   "execution_count": null,
   "metadata": {
    "colab": {
     "base_uri": "https://localhost:8080/",
     "height": 55
    },
    "colab_type": "code",
    "id": "zjVqlSN9te3B",
    "outputId": "c46b0732-a15d-4708-cb15-bf79a610ed20"
   },
   "outputs": [],
   "source": [
    "response = requests.get('http://www.cs.toronto.edu/~kriz/cifar-10-sample/horse6.png')\n",
    "\n",
    "img = Image.open(BytesIO(response.content))\n",
    "\n",
    "img = np.expand_dims(img, axis=0)\n",
    "\n",
    "img = img[:,:,:,:3]\n",
    "\n",
    "print(model.predict(img))\n",
    "\n",
    "print('Primeira Classe identificadao com o valor mais próximo de 1 = \"Cavalos\"')"
   ]
  },
  {
   "cell_type": "code",
   "execution_count": null,
   "metadata": {
    "colab": {
     "base_uri": "https://localhost:8080/",
     "height": 55
    },
    "colab_type": "code",
    "id": "aUWuUkbHuNSD",
    "outputId": "fc6ba628-17f1-4524-eb1c-1d7f5bb53bf7"
   },
   "outputs": [],
   "source": [
    "response = requests.get('http://www.cs.toronto.edu/~kriz/cifar-10-sample/bird10.png')\n",
    "\n",
    "img = Image.open(BytesIO(response.content))\n",
    "\n",
    "img = np.expand_dims(img, axis=0)\n",
    "\n",
    "img = img[:,:,:,:3]\n",
    "\n",
    "print(model.predict(img))\n",
    "\n",
    "print('Primeira Classe identificadao com o valor Mais próximo do 1 = \"Aves\"')"
   ]
  },
  {
   "cell_type": "code",
   "execution_count": null,
   "metadata": {
    "colab": {
     "base_uri": "https://localhost:8080/",
     "height": 55
    },
    "colab_type": "code",
    "id": "f9wW6AaXud1V",
    "outputId": "1b246ffb-4133-4e69-de6f-83660febab88"
   },
   "outputs": [],
   "source": [
    "  response = requests.get('http://www.cs.toronto.edu/~kriz/cifar-10-sample/dog1.png')\n",
    "\n",
    "  img = Image.open(BytesIO(response.content))\n",
    "\n",
    "  img = np.expand_dims(img, axis=0)\n",
    "\n",
    "  img = img[:,:,:,:3]\n",
    "\n",
    "  print(model.predict(img))\n",
    "\n",
    "  print('Primeira Classe identificadao com o valor Mais próximo do 1 = \"Cachorros\"')"
   ]
  },
  {
   "cell_type": "code",
   "execution_count": null,
   "metadata": {
    "colab": {
     "base_uri": "https://localhost:8080/",
     "height": 74
    },
    "colab_type": "code",
    "id": "ygYygCEi6JAX",
    "outputId": "1f5eebc9-aa13-40cc-cb01-0f3ca2045461"
   },
   "outputs": [],
   "source": [
    "response = requests.get('http://www.cs.toronto.edu/~kriz/cifar-10-sample/cat1.png')\n",
    "\n",
    "img = Image.open(BytesIO(response.content))\n",
    "\n",
    "img = np.expand_dims(img, axis=0)\n",
    "\n",
    "img = img[:,:,:,:3]\n",
    "\n",
    "print(model.predict(img))\n",
    "\n",
    "print('Primeira Classe identificadao com o valor Mais próximo do 1 = \"Gatos\"')"
   ]
  }
 ],
 "metadata": {
  "accelerator": "GPU",
  "colab": {
   "collapsed_sections": [],
   "name": "RRL - Trabalho Pratico - VCD Desafio  CIFAR-100 passaros, cavalos.ipynb",
   "provenance": []
  },
  "kernelspec": {
   "display_name": "Python 3 (ipykernel)",
   "language": "python",
   "name": "python3"
  },
  "language_info": {
   "codemirror_mode": {
    "name": "ipython",
    "version": 3
   },
   "file_extension": ".py",
   "mimetype": "text/x-python",
   "name": "python",
   "nbconvert_exporter": "python",
   "pygments_lexer": "ipython3",
   "version": "3.11.5"
  }
 },
 "nbformat": 4,
 "nbformat_minor": 1
}
