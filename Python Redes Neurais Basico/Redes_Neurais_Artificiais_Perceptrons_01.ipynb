{
 "cells": [
  {
   "cell_type": "code",
   "execution_count": 0,
   "metadata": {
    "colab": {
     "base_uri": "https://localhost:8080/",
     "height": 153
    },
    "colab_type": "code",
    "id": "168kSrvLW1aI",
    "outputId": "14b19120-8f95-47ab-c2db-8dd79c10cde0"
   },
   "outputs": [
    {
     "name": "stdout",
     "output_type": "stream",
     "text": [
      "-1\n",
      "0.8\n",
      "7\n",
      "0.1\n",
      "5\n",
      "0\n",
      "0\n",
      "\n"
     ]
    }
   ],
   "source": [
    "# -*- coding: utf-8 -*-\n",
    "\"\"\"\n",
    "\n",
    "Primeira Rede Neural com Python - Utilizando Perceptron1.\n",
    "Implementação de Perceptron de Camada 1.\n",
    "\n",
    "\"\"\"\n",
    "entradas = [-1, 7, 5]\n",
    "pesos = [0.8, 0.1, 0]\n",
    "\n",
    "def soma(e, p):\n",
    "    s = 0\n",
    "    for i in range(3):\n",
    "        print(entradas[i])\n",
    "        print(pesos[i])\n",
    "        s += e[i] * p[i]\n",
    "    return s\n",
    "        \n",
    "s = soma(entradas, pesos)\n",
    "\n",
    "def stepFunction(soma):\n",
    "    if (soma >= 1):\n",
    "        return 1\n",
    "    return 0\n",
    "\n",
    "r = stepFunction(s)\n",
    "\n",
    "#print('Soma dos Números:' + soma)\n",
    "print(r)\n",
    "print()\n",
    "#print('Soma dos Números:' + soma)"
   ]
  }
 ],
 "metadata": {
  "colab": {
   "name": "Redes Neurais Artificiais - Perceptrons 01.ipynb",
   "provenance": []
  },
  "kernelspec": {
   "display_name": "Python 3 (ipykernel)",
   "language": "python",
   "name": "python3"
  },
  "language_info": {
   "codemirror_mode": {
    "name": "ipython",
    "version": 3
   },
   "file_extension": ".py",
   "mimetype": "text/x-python",
   "name": "python",
   "nbconvert_exporter": "python",
   "pygments_lexer": "ipython3",
   "version": "3.11.5"
  }
 },
 "nbformat": 4,
 "nbformat_minor": 1
}
