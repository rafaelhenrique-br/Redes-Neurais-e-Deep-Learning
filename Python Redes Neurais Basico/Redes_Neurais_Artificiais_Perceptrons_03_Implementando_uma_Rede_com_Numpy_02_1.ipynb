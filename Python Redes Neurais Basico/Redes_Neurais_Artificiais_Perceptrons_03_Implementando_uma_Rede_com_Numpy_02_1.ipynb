{
  "nbformat": 4,
  "nbformat_minor": 0,
  "metadata": {
    "colab": {
      "name": "Redes Neurais Artificiais - Perceptrons 03 - Implementando uma Rede com Numpy 02 1.ipynb",
      "provenance": []
    },
    "language_info": {
      "codemirror_mode": {
        "name": "ipython",
        "version": 3
      },
      "file_extension": ".py",
      "mimetype": "text/x-python",
      "name": "python",
      "nbconvert_exporter": "python",
      "pygments_lexer": "ipython3",
      "version": "3.6.1"
    },
    "kernelspec": {
      "display_name": "Python 3",
      "language": "python",
      "name": "python3"
    }
  },
  "cells": [
    {
      "cell_type": "code",
      "metadata": {
        "id": "qw4dLOeuXNIW",
        "colab_type": "code",
        "outputId": "220cd9e0-3a9f-4a88-a3e0-40379faf8612",
        "colab": {
          "base_uri": "https://localhost:8080/",
          "height": 51
        }
      },
      "source": [
        "# -*- coding: utf-8 -*-\n",
        "\"\"\"\n",
        "Created on Mon Sep 18 14:16:04 2017\n",
        "\n",
        "@author: Ricardo Roberto de Lima\n",
        "Implementação de Perceptron de Camada 2 - Implementação básica. Rede Neural 2\n",
        "\n",
        "\"\"\"\n",
        "import numpy as np\n",
        "\n",
        "entradas = np.array([0, 1])\n",
        "pesos = np.array([0.5, 0.5])\n",
        "\n",
        "def soma(e, p):\n",
        "    return e.dot(p)\n",
        "# dot product / produto escalar\n",
        "        \n",
        "s = soma(entradas, pesos)\n",
        "\n",
        "def stepFunction(soma):\n",
        "    if (soma >= 1):\n",
        "        return 1\n",
        "    return 0\n",
        "\n",
        "r = stepFunction(s)\n",
        "print(r)\n",
        "print('Soma dos elementos de camada2: ', s)"
      ],
      "execution_count": 0,
      "outputs": [
        {
          "output_type": "stream",
          "text": [
            "0\n",
            "Soma dos elementos de camada2:  0.5\n"
          ],
          "name": "stdout"
        }
      ]
    },
    {
      "cell_type": "code",
      "metadata": {
        "id": "Cl9QXwPmXNIv",
        "colab_type": "code",
        "colab": {}
      },
      "source": [
        ""
      ],
      "execution_count": 0,
      "outputs": []
    },
    {
      "cell_type": "code",
      "metadata": {
        "id": "B1DaevwRXNI1",
        "colab_type": "code",
        "colab": {}
      },
      "source": [
        ""
      ],
      "execution_count": 0,
      "outputs": []
    }
  ]
}